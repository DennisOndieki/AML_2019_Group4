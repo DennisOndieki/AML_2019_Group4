{
  "nbformat": 4,
  "nbformat_minor": 0,
  "metadata": {
    "colab": {
      "name": "gradient_descent.ipynb",
      "version": "0.3.2",
      "provenance": [],
      "collapsed_sections": []
    },
    "kernelspec": {
      "name": "python3",
      "display_name": "Python 3"
    }
  },
  "cells": [
    {
      "cell_type": "markdown",
      "metadata": {
        "id": "esYyXTl8ynF5",
        "colab_type": "text"
      },
      "source": [
        "# Gradient descent"
      ]
    },
    {
      "cell_type": "markdown",
      "metadata": {
        "id": "GAu7pk4JynF-",
        "colab_type": "text"
      },
      "source": [
        "**Contents  **\n",
        "\n",
        " - start\n",
        "  - load packages\n",
        "  - set and define directories\n",
        "  - load data\n",
        "  \n",
        " - EDA\n",
        "\n",
        "    *   Summary statistics\n",
        "    *   Data visualization\n",
        "    \n",
        " - gradient descent\n",
        " "
      ]
    },
    {
      "cell_type": "markdown",
      "metadata": {
        "id": "8dt4DkpIynGB",
        "colab_type": "text"
      },
      "source": [
        "## Start"
      ]
    },
    {
      "cell_type": "markdown",
      "metadata": {
        "id": "XJcLicCfynGD",
        "colab_type": "text"
      },
      "source": [
        "###**packages**"
      ]
    },
    {
      "cell_type": "code",
      "metadata": {
        "id": "YxmGu2M5ynGG",
        "colab_type": "code",
        "colab": {}
      },
      "source": [
        "import os\n",
        "import pandas as pd\n",
        "import numpy as np\n",
        "import pickle\n",
        "\n",
        "import matplotlib.pyplot as plt\n",
        "%matplotlib inline"
      ],
      "execution_count": 0,
      "outputs": []
    },
    {
      "cell_type": "code",
      "metadata": {
        "id": "bULt2Xfgz6JM",
        "colab_type": "code",
        "outputId": "6650da24-3b54-419d-f6cd-e7003975521d",
        "colab": {
          "base_uri": "https://localhost:8080/",
          "height": 34
        }
      },
      "source": [
        "print(os.getcwd())"
      ],
      "execution_count": 0,
      "outputs": [
        {
          "output_type": "stream",
          "text": [
            "/content\n"
          ],
          "name": "stdout"
        }
      ]
    },
    {
      "cell_type": "code",
      "metadata": {
        "id": "stf7YUivz6ap",
        "colab_type": "code",
        "outputId": "5c1226ce-ceb4-4a26-ca2b-bd379c4dc2b6",
        "colab": {
          "base_uri": "https://localhost:8080/",
          "height": 54
        }
      },
      "source": [
        "from google.colab import drive\n",
        "drive.mount('/content/drive')"
      ],
      "execution_count": 0,
      "outputs": [
        {
          "output_type": "stream",
          "text": [
            "Drive already mounted at /content/drive; to attempt to forcibly remount, call drive.mount(\"/content/drive\", force_remount=True).\n"
          ],
          "name": "stdout"
        }
      ]
    },
    {
      "cell_type": "markdown",
      "metadata": {
        "id": "D6LG_co-ynGO",
        "colab_type": "text"
      },
      "source": [
        "### **directories and paths**"
      ]
    },
    {
      "cell_type": "code",
      "metadata": {
        "id": "ATl9gJKBynGQ",
        "colab_type": "code",
        "colab": {}
      },
      "source": [
        "# Set directories\n",
        "\n",
        "dirRawData = \"/content/drive/My Drive/AML/Projects/AhmesHousing/RawData/\"\n",
        "dirPData = \"/content/drive/My Drive/AML/Projects/AhmesHousing/PData/\"\n",
        "dirPOutput = \"/content/drive/My Drive/AML/Projects/AhmesHousing/POutput/\""
      ],
      "execution_count": 0,
      "outputs": []
    },
    {
      "cell_type": "markdown",
      "metadata": {
        "id": "ChDcxlt-ynGU",
        "colab_type": "text"
      },
      "source": [
        "**matplotlib font size**"
      ]
    },
    {
      "cell_type": "code",
      "metadata": {
        "id": "ZCH6Tkh5ynGW",
        "colab_type": "code",
        "colab": {}
      },
      "source": [
        "font = {'size'   : 22}\n",
        "plt.rc('font', **font)"
      ],
      "execution_count": 0,
      "outputs": []
    },
    {
      "cell_type": "markdown",
      "metadata": {
        "id": "zpt_aHWoynGz",
        "colab_type": "text"
      },
      "source": [
        "## Linear regression: Gradient descent\n",
        "\n",
        "A very basic explanation of what gradient descent is is explained below.\n",
        "\n",
        "https://www.freecodecamp.org/news/understanding-gradient-descent-the-most-popular-ml-algorithm-a66c0d97307f/\n",
        "\n",
        "Predicting House Prices using simple Linear Regression Model. [This must have been the lecturers inference]\n",
        "\n",
        "The Linear Model is an excellent model to learn. It’s the foundation of many other ML algorithms like Neural Networks and Support Vector Machines.\n",
        "\n",
        "It also shows the normalized inputs to the dataset\n",
        "\n",
        "you can get more information on the link below\n",
        "\n",
        "https://towardsdatascience.com/machine-learning-101-an-intuitive-introduction-to-gradient-descent-366b77b52645\n",
        "\n",
        "Another resourceful note for gradient descent from towards datascience\n",
        "\n",
        "https://towardsdatascience.com/gradient-descent-in-a-nutshell-eaf8c18212f0\n",
        "\n",
        "A step to step explanation\n",
        "\n",
        "https://medium.com/@lachlanmiller_52885/machine-learning-week-1-cost-function-gradient-descent-and-univariate-linear-regression-8f5fe69815fd\n",
        "\n",
        "more complex cases\n",
        "https://docs.scipy.org/doc/scipy/reference/tutorial/optimize.html\n",
        "https://docs.scipy.org/doc/scipy/reference/optimize.html#module-scipy.optimize\n",
        "\n",
        "using spicy to minimize functions\n",
        "https://docs.scipy.org/doc/scipy/reference/generated/scipy.optimize.minimize.html#scipy.optimize.minimize\n",
        "\n"
      ]
    },
    {
      "cell_type": "code",
      "metadata": {
        "id": "bAK9ZG5BZoQy",
        "colab_type": "code",
        "outputId": "3df12c47-144f-40f5-e496-9cf1ad587e24",
        "colab": {
          "base_uri": "https://localhost:8080/",
          "height": 34
        }
      },
      "source": [
        "x1 = 1\n",
        "x2 = 2\n",
        "beta_0 = 2\n",
        "beta_1 = -1.05\n",
        "beta_2 = 1/6\n",
        "delta_3 = 1\n",
        "delta_4 = 1\n",
        "y_hat = beta_0 * x1 ** 2 + beta_1 * x1 ** 4 + beta_2 * x1 ** 6 + delta_3 * x1 * x2 + delta_4 * x2 ** 2 \n",
        "y_hat"
      ],
      "execution_count": 0,
      "outputs": [
        {
          "output_type": "execute_result",
          "data": {
            "text/plain": [
              "7.116666666666667"
            ]
          },
          "metadata": {
            "tags": []
          },
          "execution_count": 71
        }
      ]
    },
    {
      "cell_type": "code",
      "metadata": {
        "id": "fDt7tiMqynGz",
        "colab_type": "code",
        "colab": {}
      },
      "source": [
        "def fn_loss(x1,x2, y, beta_0, beta_1,delta_2,delta_3,delta_4):\n",
        "    # loss function is MSE\n",
        "    N = len(x1)\n",
        "    y_hat =  beta_0 * x1 ** 2 + beta_1 * x1 ** 4 + beta_2 * x1 ** 6 + delta_3 * x1 * x2 + delta_4 * x2 ** 2\n",
        "    errors = y - y_hat\n",
        "    MSE = 1 / N * np.sum(np.square(errors))\n",
        "    return MSE\n",
        "\n",
        "def fn_grad(x1, x2, y, beta_0, beta_1,delta_2,delta_3,delta_4):\n",
        "    N = len(x1)\n",
        "    y_hat =  beta_0 * x1 ** 2 + beta_1 * x1 ** 4 + beta_2 * x1 ** 6 + delta_3 * x1 * x2 + delta_4 * x2 ** 2\n",
        "    errors = y - y_hat\n",
        "    delta_0 = 1 / N * -2 * np.sum(errors* x1)\n",
        "    delta_1 = 1 / N * -2 * np.sum(errors * x1 ** 4)\n",
        "    delta_2 = 1 / N * -2 * np.sum(errors * x1 ** 6)\n",
        "    delta_0 = 1 / N * -2 * np.sum(errors* x1 *x2)\n",
        "    delta_0 = 1 / N * -2 * np.sum(errors* x1 * 2)\n",
        "    \n",
        "    return np.array([delta_0, delta_1,delta_2,delta_3,delta_4])"
      ],
      "execution_count": 0,
      "outputs": []
    },
    {
      "cell_type": "code",
      "metadata": {
        "id": "l-dWLdXYynG4",
        "colab_type": "code",
        "colab": {}
      },
      "source": [
        "# remove outliers from the dataset that we will use\n",
        "# the reason why we do this has already been discussed above, when plotting the graphs\n",
        "# we define the x and y vectors\n",
        "#idx_outliers = df_all['lot_area'] > 20000\n",
        "#x = df_all['lot_area'][~idx_outliers].values \n",
        "#y = df_all['saleprice'][~idx_outliers].values"
      ],
      "execution_count": 0,
      "outputs": []
    },
    {
      "cell_type": "code",
      "metadata": {
        "id": "ya5UUlM80IGp",
        "colab_type": "code",
        "colab": {}
      },
      "source": [
        "x1 = np.linspace(-5,5,num=1000)\n",
        "#x1"
      ],
      "execution_count": 0,
      "outputs": []
    },
    {
      "cell_type": "code",
      "metadata": {
        "id": "XXQYRnvh0bx4",
        "colab_type": "code",
        "colab": {}
      },
      "source": [
        "x2 = np.linspace(-5,5,num=1000)"
      ],
      "execution_count": 0,
      "outputs": []
    },
    {
      "cell_type": "code",
      "metadata": {
        "id": "FA9auEZX0LGO",
        "colab_type": "code",
        "colab": {}
      },
      "source": [
        "\n",
        "beta_0 = 2\n",
        "beta_1 = -1.05\n",
        "beta_2 = 1/6\n",
        "y = beta_0 * x1 + beta_1 * x1 ** 4 + beta_2 * x1 ** 6 + x1 * x2 + x2 ** 2 \n"
      ],
      "execution_count": 0,
      "outputs": []
    },
    {
      "cell_type": "code",
      "metadata": {
        "id": "IvUSLCU31Zuf",
        "colab_type": "code",
        "colab": {}
      },
      "source": [
        ""
      ],
      "execution_count": 0,
      "outputs": []
    },
    {
      "cell_type": "code",
      "metadata": {
        "id": "rx-ipEV7ynG8",
        "colab_type": "code",
        "colab": {}
      },
      "source": [
        "# We adjust x to have a mean of 0 in order to make gradient descent more stable\n",
        "# normalise the dataset\n",
        "x1 = x1 - np.mean(x1)\n",
        "x2 = x2 - np.mean(x2)"
      ],
      "execution_count": 0,
      "outputs": []
    },
    {
      "cell_type": "markdown",
      "metadata": {
        "id": "xK5HdP0dynHA",
        "colab_type": "text"
      },
      "source": [
        "TODO\n",
        "\n",
        "In the code below: \n",
        " - initialise beta_path with an np.zeros matrix with (n_iter + 1) rows and 2 columns\n",
        " - initialise loss_path with an empty list\n",
        " - initialise beta (the coefficients calculated in each interation) with [np.mean(y), 0] (you should understand what this initialisation is)\n",
        " - read and make sure you understand the rest of the code - then run it"
      ]
    },
    {
      "cell_type": "code",
      "metadata": {
        "id": "ZUv7sRBvqqcz",
        "colab_type": "code",
        "colab": {}
      },
      "source": [
        "#np.zeros?"
      ],
      "execution_count": 0,
      "outputs": []
    },
    {
      "cell_type": "code",
      "metadata": {
        "id": "hJAIceDFynHB",
        "colab_type": "code",
        "outputId": "323d8fdc-0227-4675-8559-6bf5b485fcc2",
        "colab": {
          "base_uri": "https://localhost:8080/",
          "height": 136
        }
      },
      "source": [
        "n_iter = 4000 # number of interations\n",
        "eta = 1e-8 # step size\n",
        "tol = 100 # tolerance\n",
        "\n",
        "# initialise lists to score the path of beta and the path of the loss function\n",
        "# this is with the expectation that it will hold our initial values through random selection of parameters, \n",
        "# then probably repeat the operation n times and store results of each of those iterations.\n",
        "beta_path = np.zeros([(n_iter + 1),5])\n",
        "loss_path = []\n",
        "\n",
        "#len(beta_path) this gives a list with 1001 items or rows\n",
        "\n",
        "# initialise\n",
        "# our initial guess of the beta coefficients. \n",
        "# We take the y intercept to be the mean of y values and \n",
        "# gradient to be mean of x values, which, after adjustment, became o\n",
        "beta = [2, -1,0.3,1,1]\n",
        "# beta\n",
        "# fill the first row of the beta path array with the initial estimates as stored in the beta\n",
        "beta_path[0,:] = beta\n",
        "#beta\n",
        "# the loss function is then calculated based on these initial estimates\n",
        "loss_this = fn_loss(x1,x2, y, beta[0], beta[1],beta[2],beta[3],beta[4])\n",
        "#loss_this\n",
        "# this value is stored to the empty list created above using np.append\n",
        "loss_path.append(loss_this)\n",
        "# loss_path\n",
        "# calculate the gradient function as already defined\n",
        "# it returns np.array([delta_0, delta_1])\n",
        "g = fn_grad(x1, x2, y, beta[0], beta[1],beta[2],beta[3],beta[4])\n",
        "#g\n",
        "# add up the squared gradients\n",
        "# this will help us define when the function is expected to stop\n",
        "g_mag = np.sum(np.square(g))\n",
        "#g_mag\n",
        "# since our aim os to get a gradient of zero, we want to stop after achieving some degree of accuracy defined by our tolerance,\n",
        "# even if it happens before we reach the specified number of iterations\n",
        "\n",
        "for i in range(n_iter):\n",
        "    if g_mag < tol:\n",
        "        break\n",
        "   \n",
        "    g = fn_grad(x1, x2, y, beta[0], beta[1],beta[2],beta[3],beta[4])\n",
        "    g_mag = np.sum(np.abs(g))\n",
        "    beta += -eta * g # update the parameters beta = beta -step_size*gradient\n",
        "    loss_this = fn_loss(x1, x2, y, beta[0], beta[1],beta[2],beta[3],beta[4]) # calculate loss function of the updated parameters\n",
        "    loss_path.append(loss_this) # appand this loss value to the empty list created earlier\n",
        "    beta_path[i + 1, :] = beta\n",
        "    if i % 100 == 0: # print the value of i at each 100th interval. i.e when modulus of 100 is zero\n",
        "        print(i, g_mag)\n",
        "        \n",
        "beta_path = beta_path[0:(i + 1), :] # print 0:i+1 rows and all columns of the array beta_path"
      ],
      "execution_count": 0,
      "outputs": [
        {
          "output_type": "execute_result",
          "data": {
            "text/plain": [
              "array([[ 2.        , -1.        ,  0.3       ,  1.        ,  1.        ],\n",
              "       [ 2.00000067, -1.00013357,  0.29735326,  0.99999999,  0.99999999],\n",
              "       [ 2.00000134, -1.00026703,  0.29470892,  0.99999998,  0.99999998],\n",
              "       ...,\n",
              "       [ 2.00267   , -1.14813377, -2.37246108,  0.99996003,  0.99996003],\n",
              "       [ 2.00267067, -1.14813784, -2.37245347,  0.99996002,  0.99996002],\n",
              "       [ 2.00267134, -1.1481419 , -2.37244578,  0.99996001,  0.99996001]])"
            ]
          },
          "metadata": {
            "tags": []
          },
          "execution_count": 183
        }
      ]
    },
    {
      "cell_type": "code",
      "metadata": {
        "id": "zQAYeld8ynHG",
        "colab_type": "code",
        "outputId": "2225b165-5660-46d0-fe1a-9f4007a7faf1",
        "colab": {
          "base_uri": "https://localhost:8080/",
          "height": 102
        }
      },
      "source": [
        "# This cell should output:\n",
        "# Intercept: $178,909\n",
        "# Slope: $9.3 per foot\n",
        "print('Slope0: ${:,.0f}'.format(beta[0]))\n",
        "print('Slope1: ${:,.1f} per foot'.format(beta[1]))\n",
        "print('Slope2: ${:,.1f} per foot'.format(beta[2]))\n",
        "print('Slope3: ${:,.1f} per foot'.format(beta[3]))\n",
        "print('Slope4: ${:,.1f} per foot'.format(beta[4]))\n"
      ],
      "execution_count": 0,
      "outputs": [
        {
          "output_type": "stream",
          "text": [
            "Slope0: $2\n",
            "Slope1: $-1.1 per foot\n",
            "Slope2: $-2.4 per foot\n",
            "Slope3: $1.0 per foot\n",
            "Slope4: $1.0 per foot\n"
          ],
          "name": "stdout"
        }
      ]
    },
    {
      "cell_type": "code",
      "metadata": {
        "id": "Au5bmgdDynHJ",
        "colab_type": "code",
        "outputId": "3cc784bc-3eab-4519-a5e8-c23887db5061",
        "colab": {
          "base_uri": "https://localhost:8080/",
          "height": 501
        }
      },
      "source": [
        "fig = plt.figure(figsize = (10, 6))\n",
        "ax1 = fig.add_subplot(1, 1, 1)\n",
        "ax1.scatter(beta_path[:, 0],  beta_path[:, 1], s=2)\n",
        "ax1.scatter(beta_path[:, 0],  beta_path[:, 2], s=2)\n",
        "ax1.scatter(beta_path[:, 0],  beta_path[:, 3], s=2)\n",
        "ax1.scatter(beta_path[:, 0],  beta_path[:, 4], s=2)\n",
        "_ = ax1.set_xlabel('path of intercept', fontsize=20)\n",
        "_ = ax1.set_ylabel('path of gradient (w.r.t. square foot of lot_area)', fontsize=20)"
      ],
      "execution_count": 0,
      "outputs": [
        {
          "output_type": "display_data",
          "data": {
            "image/png": "[encoded data removed]",
            "text/plain": [
              "<Figure size 720x432 with 1 Axes>"
            ]
          },
          "metadata": {
            "tags": []
          }
        }
      ]
    },
    {
      "cell_type": "code",
      "metadata": {
        "id": "DYP6WwOmynHM",
        "colab_type": "code",
        "colab": {}
      },
      "source": [
        "# How much can the step size be increased before gradient descent starts to diverge?"
      ],
      "execution_count": 0,
      "outputs": []
    },
    {
      "cell_type": "code",
      "metadata": {
        "colab_type": "code",
        "id": "nfJNuel7W7r2",
        "colab": {}
      },
      "source": [
        "n_iter = 100000 # number of interations\n",
        "eta = 1e-5 # step size\n",
        "tol = 3000 # tolerance\n",
        "\n",
        "# initialise lists to score the path of beta and the path of the loss function\n",
        "# this is with the expectation that it will hold our initial values through random selection of parameters, \n",
        "# then probably repeat the operation n times and store results of each of those iterations.\n",
        "beta_path = np.zeros([(n_iter + 1),5])\n",
        "loss_path = []\n",
        "\n",
        "#len(beta_path) this gives a list with 1001 items or rows\n",
        "\n",
        "# initialise\n",
        "# our initial guess of the beta coefficients. \n",
        "# We take the y intercept to be the mean of y values and \n",
        "# gradient to be mean of x values, which, after adjustment, became o\n",
        "beta = [0, 0,0,0,0]\n",
        "# beta\n",
        "# fill the first row of the beta path array with the initial estimates as stored in the beta\n",
        "beta_path[0,:] = beta\n",
        "#beta\n",
        "# the loss function is then calculated based on these initial estimates\n",
        "loss_this = fn_loss(x1,x2, y, beta[0], beta[1],beta[2],beta[3],beta[4])\n",
        "#loss_this\n",
        "# this value is stored to the empty list created above using np.append\n",
        "loss_path.append(loss_this)\n",
        "# loss_path\n",
        "# calculate the gradient function as already defined\n",
        "# it returns np.array([delta_0, delta_1])\n",
        "g = fn_grad(x1, x2, y, beta[0], beta[1],beta[2],beta[3],beta[4])\n",
        "#g\n",
        "# add up the squared gradients\n",
        "# this will help us define when the function is expected to stop\n",
        "g_mag = np.sum(np.square(g))\n",
        "#g_mag\n",
        "# since our aim os to get a gradient of zero, we want to stop after achieving some degree of accuracy defined by our tolerance,\n",
        "# even if it happens before we reach the specified number of iterations\n",
        "\n",
        "for i in range(n_iter):\n",
        "    if g_mag < tol:\n",
        "        break\n",
        "    \n",
        "    g = fn_grad(x1, x2, y, beta[0], beta[1],beta[2],beta[3],beta[4])\n",
        "    g_mag = np.sum(np.square(g))\n",
        "    beta += -eta * g # update the parameters beta = beta -step_size*gradient\n",
        "    loss_this = fn_loss(x1, x2, y, beta[0], beta[1],beta[2],beta[3],beta[4]) # calculate loss function of the updated parameters\n",
        "    loss_path.append(loss_this) # appand this loss value to the empty list created earlier\n",
        "    beta_path[i + 1, :] = beta\n",
        "    if i % 100 == 0: # print the value of i at each 100th interval. i.e when modulus of 100 is zero\n",
        "        print(i, g_mag)\n",
        "        \n",
        "beta_path = beta_path[0:(i + 1), :] # print 0:i+1 rows and all columns of the array beta_path"
      ],
      "execution_count": 0,
      "outputs": []
    },
    {
      "cell_type": "code",
      "metadata": {
        "colab_type": "code",
        "outputId": "e06470cb-9dd7-4c15-cf14-df5c1bb64eca",
        "id": "f96cQuVcW7sB",
        "colab": {
          "base_uri": "https://localhost:8080/",
          "height": 102
        }
      },
      "source": [
        "# This cell should output:\n",
        "# Intercept: $178,909\n",
        "# Slope: $9.3 per foot\n",
        "print('Slope0: ${:,.0f}'.format(beta[0]))\n",
        "print('Slope1: ${:,.1f} per foot'.format(beta[1]))\n",
        "print('Slope2: ${:,.1f} per foot'.format(beta[2]))\n",
        "print('Slope3: ${:,.1f} per foot'.format(beta[3]))\n",
        "print('Slope4: ${:,.1f} per foot'.format(beta[4]))\n"
      ],
      "execution_count": 0,
      "outputs": [
        {
          "output_type": "stream",
          "text": [
            "Slope0: $67\n",
            "Slope1: $-4.4 per foot\n",
            "Slope2: $142,635.9 per foot\n",
            "Slope3: $0.0 per foot\n",
            "Slope4: $0.0 per foot\n"
          ],
          "name": "stdout"
        }
      ]
    },
    {
      "cell_type": "code",
      "metadata": {
        "colab_type": "code",
        "id": "KwVzJcfMW7sH",
        "colab": {}
      },
      "source": [
        "fig = plt.figure(figsize = (10, 6))\n",
        "ax1 = fig.add_subplot(1, 1, 1)\n",
        "ax1.scatter(beta_path[:, 0],  beta_path[:, 1], s=2)\n",
        "_ = ax1.set_xlabel('path of intercept', fontsize=20)\n",
        "_ = ax1.set_ylabel('path of gradient (w.r.t. square foot of lot_area)', fontsize=20)"
      ],
      "execution_count": 0,
      "outputs": []
    },
    {
      "cell_type": "code",
      "metadata": {
        "colab_type": "code",
        "id": "OMZDCmqIXJGy",
        "colab": {}
      },
      "source": [
        "n_iter = 100000 # number of interations\n",
        "eta = 1e-5 # step size\n",
        "tol = 3000 # tolerance\n",
        "\n",
        "# initialise lists to score the path of beta and the path of the loss function\n",
        "# this is with the expectation that it will hold our initial values through random selection of parameters, \n",
        "# then probably repeat the operation n times and store results of each of those iterations.\n",
        "beta_path = np.zeros([(n_iter + 1),5])\n",
        "loss_path = []\n",
        "\n",
        "#len(beta_path) this gives a list with 1001 items or rows\n",
        "\n",
        "# initialise\n",
        "# our initial guess of the beta coefficients. \n",
        "# We take the y intercept to be the mean of y values and \n",
        "# gradient to be mean of x values, which, after adjustment, became o\n",
        "beta = [0, 0,0,0,0]\n",
        "# beta\n",
        "# fill the first row of the beta path array with the initial estimates as stored in the beta\n",
        "beta_path[0,:] = beta\n",
        "#beta\n",
        "# the loss function is then calculated based on these initial estimates\n",
        "loss_this = fn_loss(x1,x2, y, beta[0], beta[1],beta[2],beta[3],beta[4])\n",
        "#loss_this\n",
        "# this value is stored to the empty list created above using np.append\n",
        "loss_path.append(loss_this)\n",
        "# loss_path\n",
        "# calculate the gradient function as already defined\n",
        "# it returns np.array([delta_0, delta_1])\n",
        "g = fn_grad(x1, x2, y, beta[0], beta[1],beta[2],beta[3],beta[4])\n",
        "#g\n",
        "# add up the squared gradients\n",
        "# this will help us define when the function is expected to stop\n",
        "g_mag = np.sum(np.square(g))\n",
        "#g_mag\n",
        "# since our aim os to get a gradient of zero, we want to stop after achieving some degree of accuracy defined by our tolerance,\n",
        "# even if it happens before we reach the specified number of iterations\n",
        "\n",
        "for i in range(n_iter):\n",
        "    if g_mag < tol:\n",
        "        break\n",
        "    \n",
        "    g = fn_grad(x1, x2, y, beta[0], beta[1],beta[2],beta[3],beta[4])\n",
        "    g_mag = np.sum(np.square(g))\n",
        "    beta += -eta * g # update the parameters beta = beta -step_size*gradient\n",
        "    loss_this = fn_loss(x1, x2, y, beta[0], beta[1],beta[2],beta[3],beta[4]) # calculate loss function of the updated parameters\n",
        "    loss_path.append(loss_this) # appand this loss value to the empty list created earlier\n",
        "    beta_path[i + 1, :] = beta\n",
        "    if i % 100 == 0: # print the value of i at each 100th interval. i.e when modulus of 100 is zero\n",
        "        print(i, g_mag)\n",
        "        \n",
        "beta_path = beta_path[0:(i + 1), :] # print 0:i+1 rows and all columns of the array beta_path"
      ],
      "execution_count": 0,
      "outputs": []
    },
    {
      "cell_type": "code",
      "metadata": {
        "colab_type": "code",
        "outputId": "e06470cb-9dd7-4c15-cf14-df5c1bb64eca",
        "id": "tui7dNZkXJG_",
        "colab": {
          "base_uri": "https://localhost:8080/",
          "height": 102
        }
      },
      "source": [
        "# This cell should output:\n",
        "# Intercept: $178,909\n",
        "# Slope: $9.3 per foot\n",
        "print('Slope0: ${:,.0f}'.format(beta[0]))\n",
        "print('Slope1: ${:,.1f} per foot'.format(beta[1]))\n",
        "print('Slope2: ${:,.1f} per foot'.format(beta[2]))\n",
        "print('Slope3: ${:,.1f} per foot'.format(beta[3]))\n",
        "print('Slope4: ${:,.1f} per foot'.format(beta[4]))\n"
      ],
      "execution_count": 0,
      "outputs": [
        {
          "output_type": "stream",
          "text": [
            "Slope0: $67\n",
            "Slope1: $-4.4 per foot\n",
            "Slope2: $142,635.9 per foot\n",
            "Slope3: $0.0 per foot\n",
            "Slope4: $0.0 per foot\n"
          ],
          "name": "stdout"
        }
      ]
    },
    {
      "cell_type": "code",
      "metadata": {
        "colab_type": "code",
        "outputId": "276d585a-bfd5-47ff-987b-b8a94a785b44",
        "id": "VrBAHxnxXJHM",
        "colab": {
          "base_uri": "https://localhost:8080/",
          "height": 501
        }
      },
      "source": [
        "fig = plt.figure(figsize = (10, 6))\n",
        "ax1 = fig.add_subplot(1, 1, 1)\n",
        "ax1.scatter(beta_path[:, 0],  beta_path[:, 1], s=2)\n",
        "_ = ax1.set_xlabel('path of intercept', fontsize=20)\n",
        "_ = ax1.set_ylabel('path of gradient (w.r.t. square foot of lot_area)', fontsize=20)"
      ],
      "execution_count": 0,
      "outputs": [
        {
          "output_type": "display_data",
          "data": {
            "image/png": "[encoded data removed]",
            "text/plain": [
              "<Figure size 720x432 with 1 Axes>"
            ]
          },
          "metadata": {
            "tags": []
          }
        }
      ]
    }
  ]
}