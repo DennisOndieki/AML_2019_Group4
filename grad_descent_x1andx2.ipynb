def fn_loss(x1,x2):
    return 2 * x1 ** 2 -1.05 * x1 ** 4 + 1/6 * x1 ** 6 + x1 * x2 + x2 ** 2 
    
def fn_grad1(x1,x2):
    delta_x1 = 4 * x1 - 4.2 * x1 ** 3 +x1 ** 5 + x2
    return delta_x1
def fn_grad2(x1,x2):
    delta_x2 = x1 + 2 * x2
    return delta_x2
    import numpy as np

class gd_pv_1d:
    
    def __init__(self, fn_loss, fn_grad1, fn_grad2):
        self.fn_loss = fn_loss
        self.fn_grad1 = fn_grad1
        self.fn_grad2 = fn_grad2
        
    def find_min(self, x1_init, x2_init, n_iter, eta, tol):
        #self.x_init = x_init
        #self.n_iter = n_iter
        #self.eta = eta
        #self.tol = tol
        x1 = x1_init
        x2 = x2_init
        loss_path = []
        x1_path = []
        x2_path = []
        
        x1_path.append(x1)
        x2_path.append(x2)
        loss_this = self.fn_loss(x1,x2)
        loss_path.append(loss_this)
        g1 = self.fn_grad1(x1,x2)
        g2 = self.fn_grad2(x1,x2)

        for i in range(n_iter):
            # if g < tol:
            #    break
            g1 = self.fn_grad1(x1,x2)
            g2 = self.fn_grad2(x1,x2)
            x1 += -eta * g1
            x2 += -eta * g2
            x1_path.append(x1)
            x2_path.append(x2)
            loss_this = self.fn_loss(x1,x2)
            loss_path.append(loss_this)
            
        self.loss_path = loss_path
        self.x1_path = x1_path
        self.x2_path = x2_path
        self.loss_fn_min = loss_this
        self.x1_at_min = x1
        self.x2_at_min = x2
        
solver = gd_pv_1d(fn_loss = fn_loss, fn_grad1 = fn_grad1,fn_grad2 = fn_grad2)

solver.find_min( x1_init = 4, x2_init = 4, n_iter = 10000, eta = 0.001, tol = 1e-5)

print('The minimum of the loss function is {}'.format(np.round(solver.loss_fn_min, 12)))
print('The value of x1 which generates the minimum is {}'.format(np.round(solver.x1_at_min, 7)))
print('The value of x2 which generates the minimum is {}'.format(np.round(solver.x2_at_min, 7)))

import matplotlib
import matplotlib.pyplot as plt
%matplotlib inline

font = {'size': 18}
matplotlib.rc('font', **font)

cmap = matplotlib.cm.get_cmap('viridis')
lst_loss_log = np.log(solver.loss_path)
normalize = matplotlib.colors.Normalize(vmin=min(lst_loss_log), 
                                        vmax=max(lst_loss_log))

colours = [cmap(normalize(value)) for value in lst_loss_log]

fig = plt.figure(figsize=(10, 8))
ax1 = fig.add_subplot(1, 1, 1)
ax1.scatter(solver.x1_path, solver.loss_path, color=colours)
ax1.scatter(solver.x2_path, solver.loss_path, color=colours)
ax1.set_xlabel('x')
ax1.set_ylabel('loss')
